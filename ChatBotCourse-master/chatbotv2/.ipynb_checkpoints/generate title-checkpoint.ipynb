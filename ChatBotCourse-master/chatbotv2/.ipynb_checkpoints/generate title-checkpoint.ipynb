{
 "cells": [
  {
   "cell_type": "code",
   "execution_count": 21,
   "metadata": {
    "collapsed": true
   },
   "outputs": [],
   "source": [
    "import jieba\n",
    "import jieba.posseg\n",
    "import itertools\n",
    "f = open('./output.txt','r')"
   ]
  },
  {
   "cell_type": "code",
   "execution_count": 22,
   "metadata": {},
   "outputs": [],
   "source": [
    "movie_list = []\n",
    "for text in f:\n",
    "    text = text.strip('\\n')\n",
    "    tmp = text.split(\" \")\n",
    "    movie_list.append(\"\".join(tmp))"
   ]
  },
  {
   "cell_type": "code",
   "execution_count": 24,
   "metadata": {},
   "outputs": [],
   "source": [
    "d ={}\n",
    "word_list = []\n",
    "for i in range(len(movie_list)):\n",
    "    seg = jieba.posseg.cut(movie_list[i])\n",
    "    for j in seg:\n",
    "        d[j.word] =  j.flag\n",
    "        word_list.append(j.word)"
   ]
  },
  {
   "cell_type": "code",
   "execution_count": 33,
   "metadata": {},
   "outputs": [],
   "source": [
    "combinations = []\n",
    "for i in range(len(word_list)/6):\n",
    "    tmp = itertools.combinations(word_list[i*6:i*6+6], 2)\n",
    "    for i in tmp:\n",
    "        combinations.append((i[0],i[1]))\n",
    "        combinations.append((i[1],i[0]))"
   ]
  },
  {
   "cell_type": "code",
   "execution_count": 39,
   "metadata": {},
   "outputs": [
    {
     "data": {
      "text/plain": [
       "[(u'\\u4e0d', u'\\u592a'),\n",
       " (u'\\u592a', u'\\u4e0d'),\n",
       " (u'\\u4e0d', u'\\u8bf4\\u771f\\u7684'),\n",
       " (u'\\u8bf4\\u771f\\u7684', u'\\u4e0d'),\n",
       " (u'\\u4e0d', u'\\u4e0e'),\n",
       " (u'\\u4e0e', u'\\u4e0d'),\n",
       " (u'\\u4e0d', u'\\u673a\\u573a'),\n",
       " (u'\\u673a\\u573a', u'\\u4e0d'),\n",
       " (u'\\u4e0d', u'\\u63d0\\u9192'),\n",
       " (u'\\u63d0\\u9192', u'\\u4e0d'),\n",
       " (u'\\u592a', u'\\u8bf4\\u771f\\u7684'),\n",
       " (u'\\u8bf4\\u771f\\u7684', u'\\u592a'),\n",
       " (u'\\u592a', u'\\u4e0e'),\n",
       " (u'\\u4e0e', u'\\u592a'),\n",
       " (u'\\u592a', u'\\u673a\\u573a'),\n",
       " (u'\\u673a\\u573a', u'\\u592a'),\n",
       " (u'\\u592a', u'\\u63d0\\u9192'),\n",
       " (u'\\u63d0\\u9192', u'\\u592a'),\n",
       " (u'\\u8bf4\\u771f\\u7684', u'\\u4e0e'),\n",
       " (u'\\u4e0e', u'\\u8bf4\\u771f\\u7684'),\n",
       " (u'\\u8bf4\\u771f\\u7684', u'\\u673a\\u573a'),\n",
       " (u'\\u673a\\u573a', u'\\u8bf4\\u771f\\u7684'),\n",
       " (u'\\u8bf4\\u771f\\u7684', u'\\u63d0\\u9192'),\n",
       " (u'\\u63d0\\u9192', u'\\u8bf4\\u771f\\u7684'),\n",
       " (u'\\u4e0e', u'\\u673a\\u573a'),\n",
       " (u'\\u673a\\u573a', u'\\u4e0e'),\n",
       " (u'\\u4e0e', u'\\u63d0\\u9192'),\n",
       " (u'\\u63d0\\u9192', u'\\u4e0e'),\n",
       " (u'\\u673a\\u573a', u'\\u63d0\\u9192'),\n",
       " (u'\\u63d0\\u9192', u'\\u673a\\u573a'),\n",
       " (u'\\u8003\\u9a8c', u'\\u7a33\\u5b9a'),\n",
       " (u'\\u7a33\\u5b9a', u'\\u8003\\u9a8c'),\n",
       " (u'\\u8003\\u9a8c', u'\\u597d\\u6d88\\u606f'),\n",
       " (u'\\u597d\\u6d88\\u606f', u'\\u8003\\u9a8c'),\n",
       " (u'\\u8003\\u9a8c', u'\\u4e07\\u7269'),\n",
       " (u'\\u4e07\\u7269', u'\\u8003\\u9a8c'),\n",
       " (u'\\u8003\\u9a8c', u'\\u5168\\u9762'),\n",
       " (u'\\u5168\\u9762', u'\\u8003\\u9a8c'),\n",
       " (u'\\u8003\\u9a8c', u'\\u634d\\u536b'),\n",
       " (u'\\u634d\\u536b', u'\\u8003\\u9a8c'),\n",
       " (u'\\u7a33\\u5b9a', u'\\u597d\\u6d88\\u606f'),\n",
       " (u'\\u597d\\u6d88\\u606f', u'\\u7a33\\u5b9a'),\n",
       " (u'\\u7a33\\u5b9a', u'\\u4e07\\u7269'),\n",
       " (u'\\u4e07\\u7269', u'\\u7a33\\u5b9a'),\n",
       " (u'\\u7a33\\u5b9a', u'\\u5168\\u9762'),\n",
       " (u'\\u5168\\u9762', u'\\u7a33\\u5b9a'),\n",
       " (u'\\u7a33\\u5b9a', u'\\u634d\\u536b'),\n",
       " (u'\\u634d\\u536b', u'\\u7a33\\u5b9a'),\n",
       " (u'\\u597d\\u6d88\\u606f', u'\\u4e07\\u7269'),\n",
       " (u'\\u4e07\\u7269', u'\\u597d\\u6d88\\u606f'),\n",
       " (u'\\u597d\\u6d88\\u606f', u'\\u5168\\u9762'),\n",
       " (u'\\u5168\\u9762', u'\\u597d\\u6d88\\u606f'),\n",
       " (u'\\u597d\\u6d88\\u606f', u'\\u634d\\u536b'),\n",
       " (u'\\u634d\\u536b', u'\\u597d\\u6d88\\u606f'),\n",
       " (u'\\u4e07\\u7269', u'\\u5168\\u9762'),\n",
       " (u'\\u5168\\u9762', u'\\u4e07\\u7269'),\n",
       " (u'\\u4e07\\u7269', u'\\u634d\\u536b'),\n",
       " (u'\\u634d\\u536b', u'\\u4e07\\u7269'),\n",
       " (u'\\u5168\\u9762', u'\\u634d\\u536b'),\n",
       " (u'\\u634d\\u536b', u'\\u5168\\u9762')]"
      ]
     },
     "execution_count": 39,
     "metadata": {},
     "output_type": "execute_result"
    }
   ],
   "source": [
    "combinations"
   ]
  },
  {
   "cell_type": "code",
   "execution_count": null,
   "metadata": {
    "collapsed": true
   },
   "outputs": [],
   "source": []
  }
 ],
 "metadata": {
  "kernelspec": {
   "display_name": "Python 2",
   "language": "python",
   "name": "python2"
  },
  "language_info": {
   "codemirror_mode": {
    "name": "ipython",
    "version": 2
   },
   "file_extension": ".py",
   "mimetype": "text/x-python",
   "name": "python",
   "nbconvert_exporter": "python",
   "pygments_lexer": "ipython2",
   "version": "2.7.14"
  }
 },
 "nbformat": 4,
 "nbformat_minor": 2
}
